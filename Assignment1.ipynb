{
 "cells": [
  {
   "cell_type": "markdown",
   "metadata": {},
   "source": [
    "# Assignment 1 - Threading and Multiprocessing\n",
    "\n",
    "In this project, we will explore multithreading an multiprocessing difference. For that purpose, we have an imaginary colleage whose name is John, who asks for your help to increase the speed of his process while downloading images from internet.\n",
    "\n",
    "John already has the code for serial-programming, however, he don't know concurrent programming and parallel programming! Help John to succeed in his mission by using multithreading and multiprocessing logic to increase the speed of his task.\n",
    "\n",
    "He has two tasks:\n",
    "\n",
    "1. Download images from internet\n",
    "2. Resize them to 128x128 px. \n"
   ]
  },
  {
   "cell_type": "markdown",
   "metadata": {},
   "source": [
    "## Imports"
   ]
  },
  {
   "cell_type": "code",
   "execution_count": 1,
   "metadata": {},
   "outputs": [],
   "source": [
    "import os\n",
    "import utils"
   ]
  },
  {
   "cell_type": "markdown",
   "metadata": {},
   "source": [
    "## Global Variables"
   ]
  },
  {
   "cell_type": "code",
   "execution_count": 2,
   "metadata": {},
   "outputs": [],
   "source": [
    "NUM_OF_IMAGES = 500 # max requests can be done per day is 12500\n",
    "CLIENT_ID = utils.get_imgur_client_id()\n",
    "IMAGES_DIR = utils.create_download_dir()"
   ]
  },
  {
   "cell_type": "markdown",
   "metadata": {},
   "source": [
    "## 1. Downloading Images from Internet (Threading)\n",
    "\n",
    "In this section, we will download some images from internet. As network related tasks are considered as IO bound, it can be fasten by multithreading the downloading task. Our john already did serial way of downloading, it is your turn to do multithreading.\n",
    "\n",
    "You are free to choose any library you want. Your success will be based on your ability to beat John's timing."
   ]
  },
  {
   "cell_type": "markdown",
   "metadata": {},
   "source": [
    "### Serial Code of John"
   ]
  },
  {
   "cell_type": "code",
   "execution_count": 4,
   "metadata": {},
   "outputs": [
    {
     "name": "stdout",
     "output_type": "stream",
     "text": [
      "Wall time: 10min 48s\n"
     ]
    }
   ],
   "source": [
    "%%time\n",
    "\n",
    "image_links = utils.build_link_list(CLIENT_ID, NUM_OF_IMAGES)\n",
    "\n",
    "for image_link in image_links:\n",
    "    utils.download_image_from_url(image_link, IMAGES_DIR)"
   ]
  },
  {
   "cell_type": "markdown",
   "metadata": {},
   "source": [
    "### Multithreading John's Task"
   ]
  },
  {
   "cell_type": "code",
   "execution_count": 14,
   "metadata": {},
   "outputs": [
    {
     "name": "stdout",
     "output_type": "stream",
     "text": [
      "It Takes183.54300546646118 second\n"
     ]
    }
   ],
   "source": [
    "import multiprocessing\n",
    "import time\n",
    "\n",
    "starttime=time.time()\n",
    "processes=[]\n",
    "\n",
    "for image_link in image_links:\n",
    "    p=multiprocessing.Process(target=utils.download_image_from_url(image_link, IMAGES_DIR))\n",
    "    processes.append(p)\n",
    "    p.start()\n",
    "\n",
    "for process in processes:\n",
    "    process.join()\n",
    "    \n",
    "print(\"It Takes{} second\".format(time.time()-starttime))\n",
    "    \n",
    "    \n",
    "## todo: your code goes here"
   ]
  },
  {
   "cell_type": "markdown",
   "metadata": {},
   "source": [
    "## 2. Resizing (Multiprocessing)\n",
    "\n",
    "In this part, we have to resize the images downloaded into another size, in this example case, it will be 128x128px. As CPU bound operations are generally considered as multiprocessing tasks, resizing suits exactly for this purpose!\n",
    "\n",
    "You are free to choose any library you want. Your success will be based on your ability to beat John's timing."
   ]
  },
  {
   "cell_type": "markdown",
   "metadata": {},
   "source": [
    "### Serial Code of John"
   ]
  },
  {
   "cell_type": "code",
   "execution_count": 2,
   "metadata": {},
   "outputs": [
    {
     "name": "stdout",
     "output_type": "stream",
     "text": [
      "Wall time: 50.9 s\n"
     ]
    }
   ],
   "source": [
    "%%time\n",
    "\n",
    "# PS: time for 845 images : 10.1 s\n",
    "\n",
    "image_path_list = os.listdir('images')\n",
    "\n",
    "for image_path in image_path_list:\n",
    "    utils.create_thumbnail((128, 128), os.path.join('images', image_path))"
   ]
  },
  {
   "cell_type": "markdown",
   "metadata": {},
   "source": [
    "### Multithreading John's Task"
   ]
  },
  {
   "cell_type": "code",
   "execution_count": 3,
   "metadata": {},
   "outputs": [
    {
     "name": "stdout",
     "output_type": "stream",
     "text": [
      "Wall time: 15.3 s\n"
     ]
    }
   ],
   "source": [
    "%%time\n",
    "import concurrent.futures\n",
    "\n",
    "with concurrent.futures.ProcessPoolExecutor() as Ex:\n",
    "    for image_path in image_path_list:\n",
    "        result=Ex.submit(utils.create_thumbnail((128, 128), os.path.join('images', image_path)))\n",
    "\n",
    "\n",
    "# todo: your code goes here"
   ]
  },
  {
   "cell_type": "markdown",
   "metadata": {},
   "source": [
    "## Conclusion\n",
    "\n",
    "John is very happy with your help and he wants to show his progress to his manager. Help him to create a dataframe/ table to present his results. \n",
    "\n",
    "Create a table to show differences between all four approaches and the time it took for those tasks. Table can be anything, as long as you show the differences, as in below.\n",
    "\n",
    "|Description | Time \n",
    "|:----------- | :---- \n",
    "|Task 1 | 19.2 sec\n",
    "|Task 2 | 3.2 sec\n",
    "|Task N | 6.2 sec\n",
    "|... | ..."
   ]
  },
  {
   "cell_type": "code",
   "execution_count": 8,
   "metadata": {},
   "outputs": [
    {
     "data": {
      "text/html": [
       "<div>\n",
       "<style scoped>\n",
       "    .dataframe tbody tr th:only-of-type {\n",
       "        vertical-align: middle;\n",
       "    }\n",
       "\n",
       "    .dataframe tbody tr th {\n",
       "        vertical-align: top;\n",
       "    }\n",
       "\n",
       "    .dataframe thead th {\n",
       "        text-align: right;\n",
       "    }\n",
       "</style>\n",
       "<table border=\"1\" class=\"dataframe\">\n",
       "  <thead>\n",
       "    <tr style=\"text-align: right;\">\n",
       "      <th></th>\n",
       "      <th>Task 1</th>\n",
       "      <th>Task 2</th>\n",
       "    </tr>\n",
       "  </thead>\n",
       "  <tbody>\n",
       "    <tr>\n",
       "      <td>John</td>\n",
       "      <td>10min 48s</td>\n",
       "      <td>50.9 s</td>\n",
       "    </tr>\n",
       "    <tr>\n",
       "      <td>Ho Man</td>\n",
       "      <td>183.54s</td>\n",
       "      <td>15.3 s</td>\n",
       "    </tr>\n",
       "  </tbody>\n",
       "</table>\n",
       "</div>"
      ],
      "text/plain": [
       "           Task 1  Task 2\n",
       "John    10min 48s  50.9 s\n",
       "Ho Man    183.54s  15.3 s"
      ]
     },
     "execution_count": 8,
     "metadata": {},
     "output_type": "execute_result"
    }
   ],
   "source": [
    "import pandas as pd\n",
    "\n",
    "df=pd.DataFrame([('10min 48s','50.9 s'),('183.54s','15.3 s')],index=[\"John\",\"Ho Man\"],columns=(\"Task 1\",\"Task 2\"))\n",
    "df"
   ]
  },
  {
   "cell_type": "code",
   "execution_count": null,
   "metadata": {},
   "outputs": [],
   "source": []
  }
 ],
 "metadata": {
  "kernelspec": {
   "display_name": "Python 3",
   "language": "python",
   "name": "python3"
  },
  "language_info": {
   "codemirror_mode": {
    "name": "ipython",
    "version": 3
   },
   "file_extension": ".py",
   "mimetype": "text/x-python",
   "name": "python",
   "nbconvert_exporter": "python",
   "pygments_lexer": "ipython3",
   "version": "3.7.4"
  }
 },
 "nbformat": 4,
 "nbformat_minor": 2
}
